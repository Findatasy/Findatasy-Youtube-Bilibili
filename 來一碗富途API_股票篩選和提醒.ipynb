{
 "cells": [
  {
   "cell_type": "code",
   "execution_count": null,
   "metadata": {},
   "outputs": [],
   "source": [
    "#pip install futu-api"
   ]
  },
  {
   "cell_type": "code",
   "execution_count": null,
   "metadata": {},
   "outputs": [],
   "source": [
    "from futu import *"
   ]
  },
  {
   "cell_type": "code",
   "execution_count": null,
   "metadata": {},
   "outputs": [],
   "source": [
    "quote_ctx = OpenQuoteContext(host='127.0.0.1', port=11111)\n",
    "\n",
    "accumulate_filter = AccumulateFilter() #可以選擇SimpleFilter, AccumulateFilter, FinancialFilter\n",
    "accumulate_filter.stock_field = StockField.AMPLITUDE #選擇相應Stock Field\n",
    "accumulate_filter.filter_min = 30 #記得調整相應數字\n",
    "accumulate_filter.filter_max = 40 #記得調整相應數字\n",
    "accumulate_filter.is_no_filter = False \n",
    "accumulate_filter.sort = SortDir.ASCEND\n",
    "ret, ls = quote_ctx.get_stock_filter(Market.HK, [accumulate_filter])  # 对香港市场的股票做简单筛选\n",
    "\n",
    "Our_stock_list = [] #名字能夠自己更改\n",
    "\n",
    "if ret == RET_OK:\n",
    "    last_page, all_count, stock_list = ls\n",
    "    print(len(stock_list), stock_list)\n",
    "    for item in stock_list:\n",
    "        Our_stock_list.append(item.stock_code)\n",
    "        print(item.stock_code, item.stock_name)\n",
    "else:\n",
    "    print('error: ', ls)\n",
    "\n",
    "quote_ctx.close()  # 结束后记得关闭当条连接，防止连接条数用尽"
   ]
  },
  {
   "cell_type": "code",
   "execution_count": null,
   "metadata": {
    "scrolled": true
   },
   "outputs": [],
   "source": [
    "Our_stock_list"
   ]
  },
  {
   "cell_type": "code",
   "execution_count": null,
   "metadata": {},
   "outputs": [],
   "source": [
    "class PriceReminderTest(PriceReminderHandlerBase):\n",
    "    def on_recv_rsp(self, rsp_str):\n",
    "        ret_code, content = super(PriceReminderTest,self).on_recv_rsp(rsp_str)\n",
    "        if ret_code != RET_OK:\n",
    "            print(\"PriceReminderTest: error, msg: %s\" % content)\n",
    "            return RET_ERROR, content\n",
    "        print(\"PriceReminderTest \", content) \n",
    "        return RET_OK, content\n",
    "\n",
    "quote_ctx = OpenQuoteContext(host='127.0.0.1', port=11111)\n",
    "handler = PriceReminderTest()\n",
    "quote_ctx.set_handler(handler)\n",
    "\n",
    "for i in Our_stock_list:\n",
    "    quote_ctx.set_price_reminder(code=i, op=SetPriceReminderOp.ADD, key=None, reminder_type=PriceReminderType.CHANGE_RATE_UP, reminder_freq=PriceReminderFreq.ALWAYS, value=5)\n",
    "    # op, reminder_type, reminder_freq,value可以更改\n",
    "quote_ctx.close()"
   ]
  },
  {
   "cell_type": "code",
   "execution_count": null,
   "metadata": {},
   "outputs": [],
   "source": [
    "New_Stock_Code = ['HK.01367',\n",
    " 'HK.01290',\n",
    " 'HK.08446',\n",
    " 'HK.08527',\n",
    " 'HK.01094',\n",
    " 'HK.00329',\n",
    " 'HK.08430',\n",
    " 'HK.00274']"
   ]
  },
  {
   "cell_type": "code",
   "execution_count": null,
   "metadata": {},
   "outputs": [],
   "source": [
    "quote_ctx = OpenQuoteContext(host='127.0.0.1', port=11111)\n",
    "handler = PriceReminderTest()\n",
    "quote_ctx.set_handler(handler)\n",
    "\n",
    "for i in Our_stock_list:\n",
    "    quote_ctx.set_price_reminder(code=i, op=SetPriceReminderOp.DEL_ALL)\n",
    "\n",
    "quote_ctx.close()    "
   ]
  },
  {
   "cell_type": "code",
   "execution_count": null,
   "metadata": {},
   "outputs": [],
   "source": [
    "quote_ctx = OpenQuoteContext(host='127.0.0.1', port=11111)\n",
    "\n",
    "ret, data = quote_ctx.get_capital_distribution(\"SH.600519\")\n",
    "if ret == RET_OK:\n",
    "    print(data)\n",
    "    print(data['capital_in_big'][0])    # 取第一条的流入资金额度，大单\n",
    "    print(data['capital_in_big'].values.tolist())   # 转为list\n",
    "else:\n",
    "    print('error:', data)\n",
    "quote_ctx.close() # 结束后记得关闭当条连接，防止连接条数用尽"
   ]
  },
  {
   "cell_type": "code",
   "execution_count": null,
   "metadata": {},
   "outputs": [],
   "source": []
  }
 ],
 "metadata": {
  "kernelspec": {
   "display_name": "Python 3",
   "language": "python",
   "name": "python3"
  },
  "language_info": {
   "codemirror_mode": {
    "name": "ipython",
    "version": 3
   },
   "file_extension": ".py",
   "mimetype": "text/x-python",
   "name": "python",
   "nbconvert_exporter": "python",
   "pygments_lexer": "ipython3",
   "version": "3.7.1"
  }
 },
 "nbformat": 4,
 "nbformat_minor": 4
}
