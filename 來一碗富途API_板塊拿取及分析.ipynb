{
 "cells": [
  {
   "cell_type": "code",
   "execution_count": null,
   "metadata": {},
   "outputs": [],
   "source": [
    "from futu import * #導入富途API模塊\n",
    "import pandas as pd #導入Pandas模塊\n",
    "quote_ctx = OpenQuoteContext(host='127.0.0.1', port=11111)\n",
    "ret, data = quote_ctx.get_plate_list(Market.HK, Plate.CONCEPT) #拿取所有香港概念板塊\n",
    "if ret == RET_OK:\n",
    "    print(data)\n",
    "else:\n",
    "    print('error:', data)\n",
    "quote_ctx.close() # 結束後記得關閉當條連接，防止連接條數用盡"
   ]
  },
  {
   "cell_type": "code",
   "execution_count": null,
   "metadata": {},
   "outputs": [],
   "source": [
    "data_plate_list = [] #設置一個只有板塊代碼的variable\n",
    "for i in data.code:\n",
    "    data_plate_list.append(i)"
   ]
  },
  {
   "cell_type": "code",
   "execution_count": null,
   "metadata": {},
   "outputs": [],
   "source": [
    "data_plate_list"
   ]
  },
  {
   "cell_type": "code",
   "execution_count": null,
   "metadata": {},
   "outputs": [],
   "source": [
    "quote_ctx = OpenQuoteContext(host='127.0.0.1', port=11111)\n",
    "ret, data_plate = quote_ctx.get_market_snapshot(data_plate_list) #拿取每個板塊當日的表現\n",
    "if ret == RET_OK:\n",
    "    print(data_plate)\n",
    "\n",
    "else:\n",
    "    print('error:', data_plate)\n",
    "quote_ctx.close() # 結束後記得關閉當條連接，防止連接條數用盡"
   ]
  },
  {
   "cell_type": "code",
   "execution_count": null,
   "metadata": {},
   "outputs": [],
   "source": [
    "data_plate = data_plate.merge(data, on='code') #把香港板塊的名字加入返每個板塊當日的表現的表"
   ]
  },
  {
   "cell_type": "code",
   "execution_count": null,
   "metadata": {},
   "outputs": [],
   "source": [
    "data_plate.set_index('plate_name', inplace=True) #把香港板塊的名字變成索引"
   ]
  },
  {
   "cell_type": "code",
   "execution_count": null,
   "metadata": {},
   "outputs": [],
   "source": [
    "data_plate['price_change'] = (data_plate['last_price'] / data_plate['prev_close_price']) - 1 #計算每個板塊的當日價格變動"
   ]
  },
  {
   "cell_type": "code",
   "execution_count": null,
   "metadata": {},
   "outputs": [],
   "source": [
    "data_plate"
   ]
  },
  {
   "cell_type": "code",
   "execution_count": null,
   "metadata": {},
   "outputs": [],
   "source": [
    "data_plate = data_plate.sort_values(by='price_change', ascending=False)[:20] #富途交易程式有相關功能 #拿取頭20表現最好的板塊\n",
    "data_plate_top_20 = data_plate.code.to_list()[:20] #設置一個頭20表現最好的板塊的variable"
   ]
  },
  {
   "cell_type": "code",
   "execution_count": null,
   "metadata": {},
   "outputs": [],
   "source": [
    "data_plate_top_20"
   ]
  },
  {
   "cell_type": "code",
   "execution_count": null,
   "metadata": {},
   "outputs": [],
   "source": [
    "data_plate"
   ]
  },
  {
   "cell_type": "code",
   "execution_count": null,
   "metadata": {},
   "outputs": [],
   "source": [
    "quote_ctx = OpenQuoteContext(host='127.0.0.1', port=11111)\n",
    "data_plate_top_20_table = []\n",
    "for i in data_plate_top_20:\n",
    "    ret, history_data, page_req_key = quote_ctx.request_history_kline(i, start='2020-10-19', end='2020-10-23')  #拿取最近5日板塊數據\n",
    "    if ret == RET_OK:\n",
    "        data_plate_top_20_table.append(history_data) #逐一把板塊數據加入去data_plate_top_20_table這varaible\n",
    "    else:\n",
    "        print('error:', data)\n",
    "quote_ctx.close() # 結束後記得關閉當條連接，防止連接條數用盡"
   ]
  },
  {
   "cell_type": "code",
   "execution_count": null,
   "metadata": {},
   "outputs": [],
   "source": [
    "data_plate_top_20_table #頭20大升幅板塊過往5日數據"
   ]
  },
  {
   "cell_type": "code",
   "execution_count": null,
   "metadata": {},
   "outputs": [],
   "source": [
    "data_plate_top_20_table = pd.concat(data_plate_top_20_table, ignore_index= True) #變成DataFrame格式方便分析"
   ]
  },
  {
   "cell_type": "code",
   "execution_count": null,
   "metadata": {},
   "outputs": [],
   "source": [
    "data_plate_top_20_table"
   ]
  },
  {
   "cell_type": "code",
   "execution_count": null,
   "metadata": {},
   "outputs": [],
   "source": [
    "data_plate_top_20_table = data_plate_top_20_table.merge(data, on='code', how='left') \n",
    "#把香港板塊的名字加入返頭20大升幅板塊過往5日數據的表格"
   ]
  },
  {
   "cell_type": "code",
   "execution_count": null,
   "metadata": {},
   "outputs": [],
   "source": [
    "data_plate_top_20_table"
   ]
  },
  {
   "cell_type": "code",
   "execution_count": null,
   "metadata": {},
   "outputs": [],
   "source": [
    "new_table = data_plate_top_20_table.set_index(['code', 'plate_name', 'time_key']) #把香港板塊的代號﹐名字及時間變成索引"
   ]
  },
  {
   "cell_type": "code",
   "execution_count": null,
   "metadata": {},
   "outputs": [],
   "source": [
    "new_table"
   ]
  },
  {
   "cell_type": "code",
   "execution_count": null,
   "metadata": {},
   "outputs": [],
   "source": [
    "new_table = new_table.unstack(-1).change_rate /100 + 1 \n",
    "#把時間變為Column, 香港板塊的代號﹐名字做Row﹐然後變change_rate格式轉換﹐方便使用cumprod"
   ]
  },
  {
   "cell_type": "code",
   "execution_count": null,
   "metadata": {},
   "outputs": [],
   "source": [
    "new_table"
   ]
  },
  {
   "cell_type": "code",
   "execution_count": null,
   "metadata": {},
   "outputs": [],
   "source": [
    "new_table.cumprod(axis=1).sort_values(by='2020-10-23 00:00:00', ascending=False) #以23/10日星期五計算，整星期升幅最多的香港板塊"
   ]
  },
  {
   "cell_type": "code",
   "execution_count": null,
   "metadata": {},
   "outputs": [],
   "source": []
  }
 ],
 "metadata": {
  "kernelspec": {
   "display_name": "Python 3",
   "language": "python",
   "name": "python3"
  },
  "language_info": {
   "codemirror_mode": {
    "name": "ipython",
    "version": 3
   },
   "file_extension": ".py",
   "mimetype": "text/x-python",
   "name": "python",
   "nbconvert_exporter": "python",
   "pygments_lexer": "ipython3",
   "version": "3.7.1"
  }
 },
 "nbformat": 4,
 "nbformat_minor": 4
}
